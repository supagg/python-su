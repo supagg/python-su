{
 "cells": [
  {
   "cell_type": "markdown",
   "id": "82d2f0ee-afba-4402-b8b9-78d757ab1cfc",
   "metadata": {},
   "source": [
    "## Write a NumPy program to test whether none of the elements of a given array is zero."
   ]
  },
  {
   "cell_type": "code",
   "execution_count": 1,
   "id": "5d984ed0-7c7d-444c-a432-74a1eb102054",
   "metadata": {},
   "outputs": [],
   "source": [
    "import numpy as np\n",
    "a=([[1,2],[1,3]])\n",
    "result=np.all(a)\n",
    "if result==\"True\":\n",
    "    print(\"array does not have any zeros\")\n",
    "else:\n",
    "    pass"
   ]
  },
  {
   "cell_type": "markdown",
   "id": "0a2e6382-3ba5-4653-99a9-a0e461b852d4",
   "metadata": {},
   "source": [
    "## Write a NumPy program to create an array of 5 zeros, 5 ones, 5 fives."
   ]
  },
  {
   "cell_type": "code",
   "execution_count": 13,
   "id": "90fd6094-2f8f-4494-821c-2b14363242ea",
   "metadata": {},
   "outputs": [
    {
     "name": "stdout",
     "output_type": "stream",
     "text": [
      "[0 0 0 0 0]\n",
      "[1 1 1 1 1]\n",
      "[5 5 5 5 5]\n"
     ]
    }
   ],
   "source": [
    "a= np.ones((5),dtype=int)\n",
    "print(0*a)\n",
    "print(a)\n",
    "print(5*a)\n"
   ]
  }
 ],
 "metadata": {
  "kernelspec": {
   "display_name": "Python",
   "language": "python",
   "name": "conda-env-python-py"
  },
  "language_info": {
   "codemirror_mode": {
    "name": "ipython",
    "version": 3
   },
   "file_extension": ".py",
   "mimetype": "text/x-python",
   "name": "python",
   "nbconvert_exporter": "python",
   "pygments_lexer": "ipython3",
   "version": "3.6.13"
  },
  "toc-showcode": false
 },
 "nbformat": 4,
 "nbformat_minor": 5
}
